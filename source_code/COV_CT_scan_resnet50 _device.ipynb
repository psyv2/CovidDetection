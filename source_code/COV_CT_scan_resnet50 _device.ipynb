{
  "cells": [
    {
      "cell_type": "markdown",
      "metadata": {
        "id": "view-in-github"
      },
      "source": [
        "<a href=\"https://colab.research.google.com/github/dwaipayan05/CovCNN-WebApp/blob/main/COVID_Chest_X_Ray_(VGG16).ipynb\" target=\"_parent\"><img src=\"https://colab.research.google.com/assets/colab-badge.svg\" alt=\"Open In Colab\"/></a>"
      ]
    },
    {
      "cell_type": "markdown",
      "metadata": {
        "id": "mNz1rfK3xpmR"
      },
      "source": [
        "**Import Necessary Libraries**"
      ]
    },
    {
      "cell_type": "code",
      "execution_count": 3,
      "metadata": {},
      "outputs": [
        {
          "name": "stdout",
          "output_type": "stream",
          "text": [
            "Requirement already satisfied: keras in c:\\users\\lenovo\\appdata\\local\\packages\\pythonsoftwarefoundation.python.3.10_qbz5n2kfra8p0\\localcache\\local-packages\\python310\\site-packages (2.11.0)\n"
          ]
        },
        {
          "name": "stderr",
          "output_type": "stream",
          "text": [
            "\n",
            "[notice] A new release of pip available: 22.2.2 -> 22.3.1\n",
            "[notice] To update, run: C:\\Users\\Lenovo\\AppData\\Local\\Microsoft\\WindowsApps\\PythonSoftwareFoundation.Python.3.10_qbz5n2kfra8p0\\python.exe -m pip install --upgrade pip\n"
          ]
        },
        {
          "name": "stdout",
          "output_type": "stream",
          "text": [
            "Collecting tensorflow\n",
            "  Downloading tensorflow-2.11.0-cp310-cp310-win_amd64.whl (1.9 kB)\n",
            "Collecting tensorflow-intel==2.11.0\n",
            "  Downloading tensorflow_intel-2.11.0-cp310-cp310-win_amd64.whl (266.3 MB)\n",
            "     ------------------------------------ 266.3/266.3 MB 613.7 kB/s eta 0:00:00\n",
            "Collecting grpcio<2.0,>=1.24.3\n",
            "  Using cached grpcio-1.50.0-cp310-cp310-win_amd64.whl (3.6 MB)\n",
            "Collecting google-pasta>=0.1.1\n",
            "  Using cached google_pasta-0.2.0-py3-none-any.whl (57 kB)\n",
            "Requirement already satisfied: six>=1.12.0 in c:\\users\\lenovo\\appdata\\local\\packages\\pythonsoftwarefoundation.python.3.10_qbz5n2kfra8p0\\localcache\\local-packages\\python310\\site-packages (from tensorflow-intel==2.11.0->tensorflow) (1.16.0)\n",
            "Requirement already satisfied: setuptools in c:\\program files\\windowsapps\\pythonsoftwarefoundation.python.3.10_3.10.2288.0_x64__qbz5n2kfra8p0\\lib\\site-packages (from tensorflow-intel==2.11.0->tensorflow) (63.2.0)\n",
            "Collecting opt-einsum>=2.3.2\n",
            "  Using cached opt_einsum-3.3.0-py3-none-any.whl (65 kB)\n",
            "Collecting termcolor>=1.1.0\n",
            "  Downloading termcolor-2.1.1-py3-none-any.whl (6.2 kB)\n",
            "Collecting tensorboard<2.12,>=2.11\n",
            "  Downloading tensorboard-2.11.0-py3-none-any.whl (6.0 MB)\n",
            "     ---------------------------------------- 6.0/6.0 MB 906.9 kB/s eta 0:00:00\n",
            "Collecting h5py>=2.9.0\n",
            "  Using cached h5py-3.7.0-cp310-cp310-win_amd64.whl (2.6 MB)\n",
            "Requirement already satisfied: packaging in c:\\users\\lenovo\\appdata\\local\\packages\\pythonsoftwarefoundation.python.3.10_qbz5n2kfra8p0\\localcache\\local-packages\\python310\\site-packages (from tensorflow-intel==2.11.0->tensorflow) (21.3)\n",
            "Collecting wrapt>=1.11.0\n",
            "  Using cached wrapt-1.14.1-cp310-cp310-win_amd64.whl (35 kB)\n",
            "Requirement already satisfied: numpy>=1.20 in c:\\users\\lenovo\\appdata\\local\\packages\\pythonsoftwarefoundation.python.3.10_qbz5n2kfra8p0\\localcache\\local-packages\\python310\\site-packages (from tensorflow-intel==2.11.0->tensorflow) (1.23.4)\n",
            "Requirement already satisfied: keras<2.12,>=2.11.0 in c:\\users\\lenovo\\appdata\\local\\packages\\pythonsoftwarefoundation.python.3.10_qbz5n2kfra8p0\\localcache\\local-packages\\python310\\site-packages (from tensorflow-intel==2.11.0->tensorflow) (2.11.0)\n",
            "Collecting typing-extensions>=3.6.6\n",
            "  Using cached typing_extensions-4.4.0-py3-none-any.whl (26 kB)\n",
            "Collecting libclang>=13.0.0\n",
            "  Using cached libclang-14.0.6-py2.py3-none-win_amd64.whl (14.2 MB)\n",
            "Collecting tensorflow-estimator<2.12,>=2.11.0\n",
            "  Downloading tensorflow_estimator-2.11.0-py2.py3-none-any.whl (439 kB)\n",
            "     ------------------------------------ 439.2/439.2 kB 638.4 kB/s eta 0:00:00\n",
            "Collecting tensorflow-io-gcs-filesystem>=0.23.1\n",
            "  Downloading tensorflow_io_gcs_filesystem-0.28.0-cp310-cp310-win_amd64.whl (1.5 MB)\n",
            "     ---------------------------------------- 1.5/1.5 MB 443.5 kB/s eta 0:00:00\n",
            "Collecting flatbuffers>=2.0\n",
            "  Downloading flatbuffers-22.11.23-py2.py3-none-any.whl (26 kB)\n",
            "Collecting gast<=0.4.0,>=0.2.1\n",
            "  Using cached gast-0.4.0-py3-none-any.whl (9.8 kB)\n",
            "Collecting protobuf<3.20,>=3.9.2\n",
            "  Using cached protobuf-3.19.6-cp310-cp310-win_amd64.whl (895 kB)\n",
            "Collecting absl-py>=1.0.0\n",
            "  Using cached absl_py-1.3.0-py3-none-any.whl (124 kB)\n",
            "Collecting astunparse>=1.6.0\n",
            "  Using cached astunparse-1.6.3-py2.py3-none-any.whl (12 kB)\n",
            "Collecting wheel<1.0,>=0.23.0\n",
            "  Using cached wheel-0.38.4-py3-none-any.whl (36 kB)\n",
            "Collecting werkzeug>=1.0.1\n",
            "  Using cached Werkzeug-2.2.2-py3-none-any.whl (232 kB)\n",
            "Collecting requests<3,>=2.21.0\n",
            "  Using cached requests-2.28.1-py3-none-any.whl (62 kB)\n",
            "Collecting google-auth-oauthlib<0.5,>=0.4.1\n",
            "  Using cached google_auth_oauthlib-0.4.6-py2.py3-none-any.whl (18 kB)\n",
            "Collecting tensorboard-plugin-wit>=1.6.0\n",
            "  Using cached tensorboard_plugin_wit-1.8.1-py3-none-any.whl (781 kB)\n",
            "Collecting markdown>=2.6.8\n",
            "  Using cached Markdown-3.4.1-py3-none-any.whl (93 kB)\n",
            "Collecting google-auth<3,>=1.6.3\n",
            "  Using cached google_auth-2.14.1-py2.py3-none-any.whl (175 kB)\n",
            "Collecting tensorboard-data-server<0.7.0,>=0.6.0\n",
            "  Using cached tensorboard_data_server-0.6.1-py3-none-any.whl (2.4 kB)\n",
            "Requirement already satisfied: pyparsing!=3.0.5,>=2.0.2 in c:\\users\\lenovo\\appdata\\local\\packages\\pythonsoftwarefoundation.python.3.10_qbz5n2kfra8p0\\localcache\\local-packages\\python310\\site-packages (from packaging->tensorflow-intel==2.11.0->tensorflow) (3.0.9)\n",
            "Collecting rsa<5,>=3.1.4\n",
            "  Using cached rsa-4.9-py3-none-any.whl (34 kB)\n",
            "Collecting cachetools<6.0,>=2.0.0\n",
            "  Using cached cachetools-5.2.0-py3-none-any.whl (9.3 kB)\n",
            "Collecting pyasn1-modules>=0.2.1\n",
            "  Using cached pyasn1_modules-0.2.8-py2.py3-none-any.whl (155 kB)\n",
            "Collecting requests-oauthlib>=0.7.0\n",
            "  Using cached requests_oauthlib-1.3.1-py2.py3-none-any.whl (23 kB)\n",
            "Collecting charset-normalizer<3,>=2\n",
            "  Downloading charset_normalizer-2.1.1-py3-none-any.whl (39 kB)\n",
            "Collecting certifi>=2017.4.17\n",
            "  Downloading certifi-2022.9.24-py3-none-any.whl (161 kB)\n",
            "     ------------------------------------ 161.1/161.1 kB 688.9 kB/s eta 0:00:00\n",
            "Collecting urllib3<1.27,>=1.21.1\n",
            "  Downloading urllib3-1.26.13-py2.py3-none-any.whl (140 kB)\n",
            "     -------------------------------------- 140.6/140.6 kB 8.7 MB/s eta 0:00:00\n",
            "Collecting idna<4,>=2.5\n",
            "  Downloading idna-3.4-py3-none-any.whl (61 kB)\n",
            "     ---------------------------------------- 61.5/61.5 kB 1.1 MB/s eta 0:00:00\n",
            "Collecting MarkupSafe>=2.1.1\n",
            "  Using cached MarkupSafe-2.1.1-cp310-cp310-win_amd64.whl (17 kB)\n",
            "Collecting pyasn1<0.5.0,>=0.4.6\n",
            "  Using cached pyasn1-0.4.8-py2.py3-none-any.whl (77 kB)\n",
            "Collecting oauthlib>=3.0.0\n",
            "  Using cached oauthlib-3.2.2-py3-none-any.whl (151 kB)\n",
            "Installing collected packages: tensorboard-plugin-wit, pyasn1, libclang, flatbuffers, wrapt, wheel, urllib3, typing-extensions, termcolor, tensorflow-io-gcs-filesystem, tensorflow-estimator, tensorboard-data-server, rsa, pyasn1-modules, protobuf, opt-einsum, oauthlib, MarkupSafe, markdown, idna, h5py, grpcio, google-pasta, gast, charset-normalizer, certifi, cachetools, absl-py, werkzeug, requests, google-auth, astunparse, requests-oauthlib, google-auth-oauthlib, tensorboard, tensorflow-intel, tensorflow\n",
            "Successfully installed MarkupSafe-2.1.1 absl-py-1.3.0 astunparse-1.6.3 cachetools-5.2.0 certifi-2022.9.24 charset-normalizer-2.1.1 flatbuffers-22.11.23 gast-0.4.0 google-auth-2.14.1 google-auth-oauthlib-0.4.6 google-pasta-0.2.0 grpcio-1.50.0 h5py-3.7.0 idna-3.4 libclang-14.0.6 markdown-3.4.1 oauthlib-3.2.2 opt-einsum-3.3.0 protobuf-3.19.6 pyasn1-0.4.8 pyasn1-modules-0.2.8 requests-2.28.1 requests-oauthlib-1.3.1 rsa-4.9 tensorboard-2.11.0 tensorboard-data-server-0.6.1 tensorboard-plugin-wit-1.8.1 tensorflow-2.11.0 tensorflow-estimator-2.11.0 tensorflow-intel-2.11.0 tensorflow-io-gcs-filesystem-0.28.0 termcolor-2.1.1 typing-extensions-4.4.0 urllib3-1.26.13 werkzeug-2.2.2 wheel-0.38.4 wrapt-1.14.1\n"
          ]
        },
        {
          "name": "stderr",
          "output_type": "stream",
          "text": [
            "  WARNING: The script wheel.exe is installed in 'C:\\Users\\Lenovo\\AppData\\Local\\Packages\\PythonSoftwareFoundation.Python.3.10_qbz5n2kfra8p0\\LocalCache\\local-packages\\Python310\\Scripts' which is not on PATH.\n",
            "  Consider adding this directory to PATH or, if you prefer to suppress this warning, use --no-warn-script-location.\n",
            "  WARNING: The scripts pyrsa-decrypt.exe, pyrsa-encrypt.exe, pyrsa-keygen.exe, pyrsa-priv2pub.exe, pyrsa-sign.exe and pyrsa-verify.exe are installed in 'C:\\Users\\Lenovo\\AppData\\Local\\Packages\\PythonSoftwareFoundation.Python.3.10_qbz5n2kfra8p0\\LocalCache\\local-packages\\Python310\\Scripts' which is not on PATH.\n",
            "  Consider adding this directory to PATH or, if you prefer to suppress this warning, use --no-warn-script-location.\n",
            "  WARNING: The script markdown_py.exe is installed in 'C:\\Users\\Lenovo\\AppData\\Local\\Packages\\PythonSoftwareFoundation.Python.3.10_qbz5n2kfra8p0\\LocalCache\\local-packages\\Python310\\Scripts' which is not on PATH.\n",
            "  Consider adding this directory to PATH or, if you prefer to suppress this warning, use --no-warn-script-location.\n",
            "  WARNING: The script normalizer.exe is installed in 'C:\\Users\\Lenovo\\AppData\\Local\\Packages\\PythonSoftwareFoundation.Python.3.10_qbz5n2kfra8p0\\LocalCache\\local-packages\\Python310\\Scripts' which is not on PATH.\n",
            "  Consider adding this directory to PATH or, if you prefer to suppress this warning, use --no-warn-script-location.\n",
            "  WARNING: The script google-oauthlib-tool.exe is installed in 'C:\\Users\\Lenovo\\AppData\\Local\\Packages\\PythonSoftwareFoundation.Python.3.10_qbz5n2kfra8p0\\LocalCache\\local-packages\\Python310\\Scripts' which is not on PATH.\n",
            "  Consider adding this directory to PATH or, if you prefer to suppress this warning, use --no-warn-script-location.\n",
            "  WARNING: The script tensorboard.exe is installed in 'C:\\Users\\Lenovo\\AppData\\Local\\Packages\\PythonSoftwareFoundation.Python.3.10_qbz5n2kfra8p0\\LocalCache\\local-packages\\Python310\\Scripts' which is not on PATH.\n",
            "  Consider adding this directory to PATH or, if you prefer to suppress this warning, use --no-warn-script-location.\n",
            "  WARNING: The scripts estimator_ckpt_converter.exe, import_pb_to_tensorboard.exe, saved_model_cli.exe, tensorboard.exe, tf_upgrade_v2.exe, tflite_convert.exe, toco.exe and toco_from_protos.exe are installed in 'C:\\Users\\Lenovo\\AppData\\Local\\Packages\\PythonSoftwareFoundation.Python.3.10_qbz5n2kfra8p0\\LocalCache\\local-packages\\Python310\\Scripts' which is not on PATH.\n",
            "  Consider adding this directory to PATH or, if you prefer to suppress this warning, use --no-warn-script-location.\n",
            "\n",
            "[notice] A new release of pip available: 22.2.2 -> 22.3.1\n",
            "[notice] To update, run: C:\\Users\\Lenovo\\AppData\\Local\\Microsoft\\WindowsApps\\PythonSoftwareFoundation.Python.3.10_qbz5n2kfra8p0\\python.exe -m pip install --upgrade pip\n"
          ]
        },
        {
          "name": "stdout",
          "output_type": "stream",
          "text": [
            "Requirement already satisfied: tqdm in c:\\users\\lenovo\\appdata\\local\\packages\\pythonsoftwarefoundation.python.3.10_qbz5n2kfra8p0\\localcache\\local-packages\\python310\\site-packages (4.64.1)\n",
            "Requirement already satisfied: colorama in c:\\users\\lenovo\\appdata\\local\\packages\\pythonsoftwarefoundation.python.3.10_qbz5n2kfra8p0\\localcache\\local-packages\\python310\\site-packages (from tqdm) (0.4.5)\n"
          ]
        },
        {
          "name": "stderr",
          "output_type": "stream",
          "text": [
            "\n",
            "[notice] A new release of pip available: 22.2.2 -> 22.3.1\n",
            "[notice] To update, run: C:\\Users\\Lenovo\\AppData\\Local\\Microsoft\\WindowsApps\\PythonSoftwareFoundation.Python.3.10_qbz5n2kfra8p0\\python.exe -m pip install --upgrade pip\n"
          ]
        }
      ],
      "source": [
        "!pip install keras\n",
        "!pip install tensorflow\n",
        "!pip install tqdm"
      ]
    },
    {
      "cell_type": "code",
      "execution_count": 6,
      "metadata": {},
      "outputs": [
        {
          "name": "stdout",
          "output_type": "stream",
          "text": [
            "Collecting opencv-python\n",
            "  Using cached opencv_python-4.6.0.66-cp36-abi3-win_amd64.whl (35.6 MB)\n",
            "Requirement already satisfied: numpy>=1.14.5 in c:\\users\\lenovo\\appdata\\local\\packages\\pythonsoftwarefoundation.python.3.10_qbz5n2kfra8p0\\localcache\\local-packages\\python310\\site-packages (from opencv-python) (1.23.4)\n",
            "Installing collected packages: opencv-python\n",
            "Successfully installed opencv-python-4.6.0.66\n"
          ]
        },
        {
          "name": "stderr",
          "output_type": "stream",
          "text": [
            "\n",
            "[notice] A new release of pip available: 22.2.2 -> 22.3.1\n",
            "[notice] To update, run: C:\\Users\\Lenovo\\AppData\\Local\\Microsoft\\WindowsApps\\PythonSoftwareFoundation.Python.3.10_qbz5n2kfra8p0\\python.exe -m pip install --upgrade pip\n",
            "\n",
            "[notice] A new release of pip available: 22.2.2 -> 22.3.1\n",
            "[notice] To update, run: C:\\Users\\Lenovo\\AppData\\Local\\Microsoft\\WindowsApps\\PythonSoftwareFoundation.Python.3.10_qbz5n2kfra8p0\\python.exe -m pip install --upgrade pip\n"
          ]
        },
        {
          "name": "stdout",
          "output_type": "stream",
          "text": [
            "Collecting scikit-learn\n",
            "  Downloading scikit_learn-1.1.3-cp310-cp310-win_amd64.whl (7.5 MB)\n",
            "     ---------------------------------------- 7.5/7.5 MB 335.8 kB/s eta 0:00:00\n",
            "Collecting threadpoolctl>=2.0.0\n",
            "  Using cached threadpoolctl-3.1.0-py3-none-any.whl (14 kB)\n",
            "Collecting joblib>=1.0.0\n",
            "  Using cached joblib-1.2.0-py3-none-any.whl (297 kB)\n",
            "Collecting scipy>=1.3.2\n",
            "  Downloading scipy-1.9.3-cp310-cp310-win_amd64.whl (40.1 MB)\n",
            "     -------------------------------------- 40.1/40.1 MB 688.5 kB/s eta 0:00:00\n",
            "Requirement already satisfied: numpy>=1.17.3 in c:\\users\\lenovo\\appdata\\local\\packages\\pythonsoftwarefoundation.python.3.10_qbz5n2kfra8p0\\localcache\\local-packages\\python310\\site-packages (from scikit-learn) (1.23.4)\n",
            "Installing collected packages: threadpoolctl, scipy, joblib, scikit-learn\n",
            "Successfully installed joblib-1.2.0 scikit-learn-1.1.3 scipy-1.9.3 threadpoolctl-3.1.0\n",
            "Collecting scikit-learn\n",
            "  Using cached scikit_learn-1.1.3-cp310-cp310-win_amd64.whl (7.5 MB)\n",
            "Requirement already satisfied: numpy>=1.17.3 in c:\\users\\lenovo\\appdata\\local\\packages\\pythonsoftwarefoundation.python.3.10_qbz5n2kfra8p0\\localcache\\local-packages\\python310\\site-packages (from scikit-learn) (1.23.4)\n",
            "Collecting threadpoolctl>=2.0.0\n",
            "  Using cached threadpoolctl-3.1.0-py3-none-any.whl (14 kB)\n",
            "Collecting scipy>=1.3.2\n",
            "  Downloading scipy-1.9.3-cp310-cp310-win_amd64.whl (40.1 MB)\n",
            "     ---------------------------------------- 40.1/40.1 MB 1.1 MB/s eta 0:00:00\n",
            "Collecting joblib>=1.0.0\n",
            "  Using cached joblib-1.2.0-py3-none-any.whl (297 kB)\n",
            "Installing collected packages: threadpoolctl, scipy, joblib, scikit-learn\n",
            "Successfully installed joblib-1.2.0 scikit-learn-1.1.3 scipy-1.9.3 threadpoolctl-3.1.0\n"
          ]
        },
        {
          "name": "stderr",
          "output_type": "stream",
          "text": [
            "\n",
            "[notice] A new release of pip available: 22.2.2 -> 22.3.1\n",
            "[notice] To update, run: C:\\Users\\Lenovo\\AppData\\Local\\Microsoft\\WindowsApps\\PythonSoftwareFoundation.Python.3.10_qbz5n2kfra8p0\\python.exe -m pip install --upgrade pip\n"
          ]
        }
      ],
      "source": [
        "!pip install opencv-python\n",
        "!pip install scikit-learn"
      ]
    },
    {
      "cell_type": "code",
      "execution_count": 7,
      "metadata": {
        "id": "ySGlFOelnaHr"
      },
      "outputs": [
        {
          "ename": "ModuleNotFoundError",
          "evalue": "No module named 'keras_preprocessing'",
          "output_type": "error",
          "traceback": [
            "\u001b[1;31m---------------------------------------------------------------------------\u001b[0m",
            "\u001b[1;31mModuleNotFoundError\u001b[0m                       Traceback (most recent call last)",
            "\u001b[1;32mc:\\Users\\Lenovo\\Dropbox\\My PC (LAPTOP-ITM7PKAB)\\Desktop\\Mini_project_G3\\source_code\\COV_CT_scan_resnet50 _device.ipynb Cell 5\u001b[0m in \u001b[0;36m<cell line: 16>\u001b[1;34m()\u001b[0m\n\u001b[0;32m     <a href='vscode-notebook-cell:/c%3A/Users/Lenovo/Dropbox/My%20PC%20%28LAPTOP-ITM7PKAB%29/Desktop/Mini_project_G3/source_code/COV_CT_scan_resnet50%20_device.ipynb#W3sZmlsZQ%3D%3D?line=13'>14</a>\u001b[0m \u001b[39mfrom\u001b[39;00m \u001b[39mkeras\u001b[39;00m\u001b[39m.\u001b[39;00m\u001b[39moptimizers\u001b[39;00m \u001b[39mimport\u001b[39;00m Adam\n\u001b[0;32m     <a href='vscode-notebook-cell:/c%3A/Users/Lenovo/Dropbox/My%20PC%20%28LAPTOP-ITM7PKAB%29/Desktop/Mini_project_G3/source_code/COV_CT_scan_resnet50%20_device.ipynb#W3sZmlsZQ%3D%3D?line=14'>15</a>\u001b[0m \u001b[39mfrom\u001b[39;00m \u001b[39mkeras\u001b[39;00m\u001b[39m.\u001b[39;00m\u001b[39mlayers\u001b[39;00m \u001b[39mimport\u001b[39;00m Dense, Activation, Dropout, Flatten, Conv2D, MaxPooling2D, BatchNormalization\n\u001b[1;32m---> <a href='vscode-notebook-cell:/c%3A/Users/Lenovo/Dropbox/My%20PC%20%28LAPTOP-ITM7PKAB%29/Desktop/Mini_project_G3/source_code/COV_CT_scan_resnet50%20_device.ipynb#W3sZmlsZQ%3D%3D?line=15'>16</a>\u001b[0m \u001b[39mimport\u001b[39;00m \u001b[39mkeras_preprocessing\u001b[39;00m\n\u001b[0;32m     <a href='vscode-notebook-cell:/c%3A/Users/Lenovo/Dropbox/My%20PC%20%28LAPTOP-ITM7PKAB%29/Desktop/Mini_project_G3/source_code/COV_CT_scan_resnet50%20_device.ipynb#W3sZmlsZQ%3D%3D?line=16'>17</a>\u001b[0m \u001b[39mfrom\u001b[39;00m \u001b[39mkeras_preprocessing\u001b[39;00m \u001b[39mimport\u001b[39;00m image\n\u001b[0;32m     <a href='vscode-notebook-cell:/c%3A/Users/Lenovo/Dropbox/My%20PC%20%28LAPTOP-ITM7PKAB%29/Desktop/Mini_project_G3/source_code/COV_CT_scan_resnet50%20_device.ipynb#W3sZmlsZQ%3D%3D?line=17'>18</a>\u001b[0m \u001b[39mfrom\u001b[39;00m \u001b[39mkeras_preprocessing\u001b[39;00m\u001b[39m.\u001b[39;00m\u001b[39mimage\u001b[39;00m \u001b[39mimport\u001b[39;00m ImageDataGenerator\n",
            "\u001b[1;31mModuleNotFoundError\u001b[0m: No module named 'keras_preprocessing'"
          ]
        }
      ],
      "source": [
        "import os\n",
        "import pandas as pd\n",
        "import numpy as np\n",
        "from tqdm import tqdm\n",
        "import keras\n",
        "from keras.utils.np_utils import to_categorical\n",
        "import cv2\n",
        "import tensorflow as tf\n",
        "from sklearn.model_selection import train_test_split\n",
        "from keras.layers import  Flatten, Dense, Dropout\n",
        "from keras.models import Sequential\n",
        "from keras.models import Model\n",
        "from keras import optimizers\n",
        "from keras.optimizers import Adam\n",
        "from keras.layers import Dense, Activation, Dropout, Flatten, Conv2D, MaxPooling2D, BatchNormalization\n",
        "import keras_preprocessing\n",
        "from keras_preprocessing import image\n",
        "from keras_preprocessing.image import ImageDataGenerator\n",
        "from keras import callbacks\n",
        "import matplotlib.pyplot as plt"
      ]
    },
    {
      "cell_type": "markdown",
      "metadata": {
        "id": "q9O49obFxttu"
      },
      "source": [
        "**Split Into Train Data & Test Data**"
      ]
    },
    {
      "cell_type": "code",
      "execution_count": 8,
      "metadata": {
        "id": "5BPRbgW4nn3e"
      },
      "outputs": [],
      "source": [
        "disease_types=['COVID', 'non-COVID']\n",
        "data_dir = '../cov_data'\n",
        "train_dir = os.path.join(data_dir)"
      ]
    },
    {
      "cell_type": "code",
      "execution_count": 9,
      "metadata": {
        "colab": {
          "base_uri": "https://localhost:8080/"
        },
        "id": "FhvO7XTiw8Az",
        "outputId": "7bf67ab9-3235-49b0-d6b0-3270b92876f1"
      },
      "outputs": [
        {
          "name": "stdout",
          "output_type": "stream",
          "text": [
            "Found 2481 files belonging to 2 classes.\n",
            "Using 1985 files for training.\n",
            "Found 2481 files belonging to 2 classes.\n",
            "Using 496 files for validation.\n"
          ]
        }
      ],
      "source": [
        "img_height,img_width=180,180\n",
        "batch_size=32\n",
        "train_ds = tf.keras.preprocessing.image_dataset_from_directory(\n",
        "  data_dir,\n",
        "  validation_split=0.2,\n",
        "  subset=\"training\",\n",
        "  seed=123,\n",
        "  image_size=(img_height, img_width),\n",
        "  batch_size=batch_size)\n",
        "\n",
        "val_ds = tf.keras.preprocessing.image_dataset_from_directory(\n",
        "  data_dir,\n",
        "  validation_split=0.2,\n",
        "  subset=\"validation\",\n",
        "  seed=123,\n",
        "  image_size=(img_height, img_width),\n",
        "  batch_size=batch_size)"
      ]
    },
    {
      "cell_type": "markdown",
      "metadata": {
        "id": "TcaWuy-DxxuJ"
      },
      "source": [
        "**Define Model Architecture**"
      ]
    },
    {
      "cell_type": "code",
      "execution_count": null,
      "metadata": {
        "colab": {
          "base_uri": "https://localhost:8080/"
        },
        "id": "PTzIgz1xsC6s",
        "outputId": "0a54da57-693d-432e-da58-0377de2d7e72"
      },
      "outputs": [
        {
          "name": "stdout",
          "output_type": "stream",
          "text": [
            "Model: \"sequential_1\"\n",
            "_________________________________________________________________\n",
            " Layer (type)                Output Shape              Param #   \n",
            "=================================================================\n",
            " resnet50 (Functional)       (None, 2048)              23587712  \n",
            "                                                                 \n",
            " flatten (Flatten)           (None, 2048)              0         \n",
            "                                                                 \n",
            " dense (Dense)               (None, 64)                131136    \n",
            "                                                                 \n",
            " activation (Activation)     (None, 64)                0         \n",
            "                                                                 \n",
            " dropout (Dropout)           (None, 64)                0         \n",
            "                                                                 \n",
            " dense_1 (Dense)             (None, 1)                 65        \n",
            "                                                                 \n",
            " activation_1 (Activation)   (None, 1)                 0         \n",
            "                                                                 \n",
            "=================================================================\n",
            "Total params: 23,718,913\n",
            "Trainable params: 131,201\n",
            "Non-trainable params: 23,587,712\n",
            "_________________________________________________________________\n",
            "Model: \"ResNet50_Architecture\"\n",
            "_________________________________________________________________\n",
            " Layer (type)                Output Shape              Param #   \n",
            "=================================================================\n",
            " resnet50 (Functional)       (None, 2048)              23587712  \n",
            "                                                                 \n",
            " flatten (Flatten)           (None, 2048)              0         \n",
            "                                                                 \n",
            " dense (Dense)               (None, 64)                131136    \n",
            "                                                                 \n",
            " activation (Activation)     (None, 64)                0         \n",
            "                                                                 \n",
            " dropout (Dropout)           (None, 64)                0         \n",
            "                                                                 \n",
            " dense_1 (Dense)             (None, 1)                 65        \n",
            "                                                                 \n",
            " activation_1 (Activation)   (None, 1)                 0         \n",
            "                                                                 \n",
            "=================================================================\n",
            "Total params: 23,718,913\n",
            "Trainable params: 131,201\n",
            "Non-trainable params: 23,587,712\n",
            "_________________________________________________________________\n"
          ]
        },
        {
          "name": "stderr",
          "output_type": "stream",
          "text": [
            "/usr/local/lib/python3.7/dist-packages/keras/optimizers/optimizer_v2/adam.py:110: UserWarning: The `lr` argument is deprecated, use `learning_rate` instead.\n",
            "  super(Adam, self).__init__(name, **kwargs)\n"
          ]
        }
      ],
      "source": [
        "resnet_model = Sequential()\n",
        "\n",
        "pretrained_model= tf.keras.applications.ResNet50(include_top=False,\n",
        "                   input_shape=(180,180,3),\n",
        "                   pooling='max',classes=2,\n",
        "                   weights='imagenet')\n",
        "for layer in pretrained_model.layers:\n",
        "        layer.trainable=False\n",
        "\n",
        "resnet_model.add(pretrained_model)\n",
        "resnet_model.add(Flatten())\n",
        "resnet_model.add(Dense(64))\n",
        "resnet_model.add(Activation('relu'))\n",
        "resnet_model.add(Dropout(0.5))\n",
        "resnet_model.add(Dense(1))\n",
        "resnet_model.add(Activation('sigmoid'))\n",
        "resnet_model.summary()\n",
        "\n",
        "resnet_model.compile(optimizer=Adam(lr=0.001),loss='binary_crossentropy',metrics=['accuracy'])\n",
        "resnet_model._name = \"ResNet50_Architecture\"\n",
        "resnet_model.summary()"
      ]
    },
    {
      "cell_type": "markdown",
      "metadata": {
        "id": "l0e-97zBx1tX"
      },
      "source": [
        "**Train the Model**"
      ]
    },
    {
      "cell_type": "code",
      "execution_count": null,
      "metadata": {
        "colab": {
          "base_uri": "https://localhost:8080/"
        },
        "id": "YHjD6EQSsFC_",
        "outputId": "44942288-e48e-4ce4-e315-80bdcfcbabac"
      },
      "outputs": [
        {
          "name": "stdout",
          "output_type": "stream",
          "text": [
            "Epoch 1/30\n",
            "63/63 [==============================] - 13s 170ms/step - loss: 0.4017 - accuracy: 0.8670 - val_loss: 0.3826 - val_accuracy: 0.8891\n",
            "Epoch 2/30\n",
            "63/63 [==============================] - 12s 170ms/step - loss: 0.4377 - accuracy: 0.8408 - val_loss: 0.3654 - val_accuracy: 0.9093\n",
            "Epoch 3/30\n",
            "63/63 [==============================] - 11s 167ms/step - loss: 0.4588 - accuracy: 0.8050 - val_loss: 0.4141 - val_accuracy: 0.8387\n",
            "Epoch 4/30\n",
            "63/63 [==============================] - 12s 170ms/step - loss: 0.4252 - accuracy: 0.8322 - val_loss: 0.4103 - val_accuracy: 0.8508\n",
            "Epoch 5/30\n",
            "63/63 [==============================] - 12s 169ms/step - loss: 0.4261 - accuracy: 0.8207 - val_loss: 0.3807 - val_accuracy: 0.8649\n",
            "Epoch 6/30\n",
            "63/63 [==============================] - 12s 168ms/step - loss: 0.4278 - accuracy: 0.8207 - val_loss: 0.3713 - val_accuracy: 0.8569\n",
            "Epoch 7/30\n",
            "63/63 [==============================] - 12s 173ms/step - loss: 0.3580 - accuracy: 0.8826 - val_loss: 0.4200 - val_accuracy: 0.8327\n",
            "Epoch 8/30\n",
            "63/63 [==============================] - 12s 168ms/step - loss: 0.4408 - accuracy: 0.7940 - val_loss: 0.3283 - val_accuracy: 0.9052\n",
            "Epoch 9/30\n",
            "63/63 [==============================] - 12s 170ms/step - loss: 0.4200 - accuracy: 0.8116 - val_loss: 0.3540 - val_accuracy: 0.8891\n",
            "Epoch 10/30\n",
            "63/63 [==============================] - 12s 169ms/step - loss: 0.3959 - accuracy: 0.8373 - val_loss: 0.3929 - val_accuracy: 0.8508\n",
            "Epoch 11/30\n",
            "63/63 [==============================] - 11s 167ms/step - loss: 0.3862 - accuracy: 0.8413 - val_loss: 0.3588 - val_accuracy: 0.8690\n",
            "Epoch 12/30\n",
            "63/63 [==============================] - 12s 169ms/step - loss: 0.4260 - accuracy: 0.8060 - val_loss: 0.3325 - val_accuracy: 0.8992\n",
            "Epoch 13/30\n",
            "63/63 [==============================] - 12s 169ms/step - loss: 0.3969 - accuracy: 0.8322 - val_loss: 0.3106 - val_accuracy: 0.9214\n",
            "Epoch 14/30\n",
            "63/63 [==============================] - 12s 171ms/step - loss: 0.3721 - accuracy: 0.8529 - val_loss: 0.2936 - val_accuracy: 0.9355\n",
            "Epoch 15/30\n",
            "63/63 [==============================] - 12s 172ms/step - loss: 0.3612 - accuracy: 0.8559 - val_loss: 0.2986 - val_accuracy: 0.9194\n",
            "Epoch 16/30\n",
            "63/63 [==============================] - 12s 174ms/step - loss: 0.3364 - accuracy: 0.8771 - val_loss: 0.3023 - val_accuracy: 0.9153\n",
            "Epoch 17/30\n",
            "63/63 [==============================] - 12s 172ms/step - loss: 0.3457 - accuracy: 0.8690 - val_loss: 0.3115 - val_accuracy: 0.9113\n",
            "Epoch 18/30\n",
            "63/63 [==============================] - 12s 170ms/step - loss: 0.3183 - accuracy: 0.8866 - val_loss: 0.2701 - val_accuracy: 0.9355\n",
            "Epoch 19/30\n",
            "63/63 [==============================] - 12s 173ms/step - loss: 0.3147 - accuracy: 0.8887 - val_loss: 0.3018 - val_accuracy: 0.9012\n",
            "Epoch 20/30\n",
            "63/63 [==============================] - 12s 172ms/step - loss: 0.3300 - accuracy: 0.8741 - val_loss: 0.2609 - val_accuracy: 0.9415\n",
            "Epoch 21/30\n",
            "63/63 [==============================] - 12s 175ms/step - loss: 0.2937 - accuracy: 0.8997 - val_loss: 0.2620 - val_accuracy: 0.9254\n",
            "Epoch 22/30\n",
            "63/63 [==============================] - 12s 173ms/step - loss: 0.3045 - accuracy: 0.8877 - val_loss: 0.2575 - val_accuracy: 0.9294\n",
            "Epoch 23/30\n",
            "63/63 [==============================] - 12s 171ms/step - loss: 0.3121 - accuracy: 0.8831 - val_loss: 0.2538 - val_accuracy: 0.9395\n",
            "Epoch 24/30\n",
            "63/63 [==============================] - 12s 174ms/step - loss: 0.3082 - accuracy: 0.8826 - val_loss: 0.2529 - val_accuracy: 0.9315\n",
            "Epoch 25/30\n",
            "63/63 [==============================] - 12s 171ms/step - loss: 0.2772 - accuracy: 0.9073 - val_loss: 0.2476 - val_accuracy: 0.9395\n",
            "Epoch 26/30\n",
            "63/63 [==============================] - 12s 171ms/step - loss: 0.2740 - accuracy: 0.9073 - val_loss: 0.2553 - val_accuracy: 0.9335\n",
            "Epoch 27/30\n",
            "63/63 [==============================] - 12s 171ms/step - loss: 0.2922 - accuracy: 0.8887 - val_loss: 0.2735 - val_accuracy: 0.9274\n",
            "Epoch 28/30\n",
            "63/63 [==============================] - 12s 172ms/step - loss: 0.3123 - accuracy: 0.8781 - val_loss: 0.2737 - val_accuracy: 0.9073\n",
            "Epoch 29/30\n",
            "63/63 [==============================] - 12s 172ms/step - loss: 0.3493 - accuracy: 0.8539 - val_loss: 0.2515 - val_accuracy: 0.9315\n",
            "Epoch 30/30\n",
            "63/63 [==============================] - 12s 173ms/step - loss: 0.2652 - accuracy: 0.9083 - val_loss: 0.2673 - val_accuracy: 0.9093\n"
          ]
        }
      ],
      "source": [
        "history = resnet_model.fit(train_ds, epochs=30,\n",
        "                              validation_data=val_ds)"
      ]
    },
    {
      "cell_type": "markdown",
      "metadata": {
        "id": "EJHImwyDx40f"
      },
      "source": [
        "**Plot the Results**"
      ]
    },
    {
      "cell_type": "code",
      "execution_count": null,
      "metadata": {
        "id": "8Wgt_QeG-NQx"
      },
      "outputs": [],
      "source": [
        "acc = history.history['accuracy']\n",
        "val_acc = history.history['val_accuracy']\n",
        "loss = history.history['loss']\n",
        "val_loss = history.history['val_loss']"
      ]
    },
    {
      "cell_type": "code",
      "execution_count": null,
      "metadata": {
        "colab": {
          "base_uri": "https://localhost:8080/",
          "height": 298
        },
        "id": "JDH2QVT-B4A7",
        "outputId": "d45234cc-c7ff-4138-9ad7-be869aaf8c12"
      },
      "outputs": [
        {
          "data": {
            "image/png": "[encoded data removed]",
            "text/plain": [
              "<Figure size 432x288 with 1 Axes>"
            ]
          },
          "metadata": {
            "needs_background": "light"
          },
          "output_type": "display_data"
        },
        {
          "data": {
            "text/plain": [
              "<Figure size 432x288 with 0 Axes>"
            ]
          },
          "metadata": {},
          "output_type": "display_data"
        }
      ],
      "source": [
        "epochs = range(len(acc))\n",
        "plt.plot(epochs, acc, 'r', label='Training accuracy')\n",
        "plt.plot(epochs, val_acc, 'b', label='Validation accuracy')\n",
        "plt.title('TraiN & Val Acc VS Epochs')\n",
        "plt.legend(loc=0)\n",
        "plt.figure()\n",
        "plt.show()"
      ]
    },
    {
      "cell_type": "code",
      "execution_count": null,
      "metadata": {
        "colab": {
          "base_uri": "https://localhost:8080/",
          "height": 298
        },
        "id": "2yT_i3mtB4zC",
        "outputId": "8bf2eee5-331f-4cca-d174-84ebee7a6b85"
      },
      "outputs": [
        {
          "data": {
            "image/png": "[encoded data removed]",
            "text/plain": [
              "<Figure size 432x288 with 1 Axes>"
            ]
          },
          "metadata": {
            "needs_background": "light"
          },
          "output_type": "display_data"
        },
        {
          "data": {
            "text/plain": [
              "<Figure size 432x288 with 0 Axes>"
            ]
          },
          "metadata": {},
          "output_type": "display_data"
        }
      ],
      "source": [
        "epochs = range(len(acc))\n",
        "plt.plot(epochs, loss, 'r', label='Training Loss')\n",
        "plt.plot(epochs, val_loss, 'b', label='Validation Loss')\n",
        "plt.title('TraiN & Val Loss VS Epochs')\n",
        "plt.legend(loc=0)\n",
        "plt.figure()\n",
        "plt.show()"
      ]
    },
    {
      "cell_type": "code",
      "execution_count": null,
      "metadata": {
        "colab": {
          "base_uri": "https://localhost:8080/"
        },
        "id": "MLDbYtkfAZoT",
        "outputId": "1d518c53-8a44-4036-dd6b-6655a85b3218"
      },
      "outputs": [
        {
          "name": "stdout",
          "output_type": "stream",
          "text": [
            "16/16 [==============================] - 3s 104ms/step - loss: 0.2673 - accuracy: 0.9093\n",
            "Test Loss: 0.2673288881778717\n",
            "Test accuracy: 90.92742204666138\n"
          ]
        }
      ],
      "source": [
        "\n",
        "score = resnet_model.evaluate(val_ds,verbose=1)\n",
        "print('Test Loss:', score[0])\n",
        "print('Test accuracy:', score[1]*100)"
      ]
    }
  ],
  "metadata": {
    "accelerator": "GPU",
    "colab": {
      "provenance": []
    },
    "gpuClass": "standard",
    "kernelspec": {
      "display_name": "Python 3.10.8 64-bit (microsoft store)",
      "language": "python",
      "name": "python3"
    },
    "language_info": {
      "codemirror_mode": {
        "name": "ipython",
        "version": 3
      },
      "file_extension": ".py",
      "mimetype": "text/x-python",
      "name": "python",
      "nbconvert_exporter": "python",
      "pygments_lexer": "ipython3",
      "version": "3.10.8"
    },
    "vscode": {
      "interpreter": {
        "hash": "854ad7b50770bedaf0cab730b1aaabb765566ea98036f134b639e260bede141e"
      }
    }
  },
  "nbformat": 4,
  "nbformat_minor": 0
}
